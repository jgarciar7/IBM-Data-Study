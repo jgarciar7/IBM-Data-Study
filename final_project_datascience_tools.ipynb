{
  "nbformat": 4,
  "nbformat_minor": 0,
  "metadata": {
    "colab": {
      "provenance": [],
      "authorship_tag": "ABX9TyO0VHSSM5HIxHYU/iGZCIlR",
      "include_colab_link": true
    },
    "kernelspec": {
      "name": "python3",
      "display_name": "Python 3"
    },
    "language_info": {
      "name": "python"
    }
  },
  "cells": [
    {
      "cell_type": "markdown",
      "metadata": {
        "id": "view-in-github",
        "colab_type": "text"
      },
      "source": [
        "<a href=\"https://colab.research.google.com/github/jgarciar7/IBM-Data-Study/blob/main/final_project_datascience_tools.ipynb\" target=\"_parent\"><img src=\"https://colab.research.google.com/assets/colab-badge.svg\" alt=\"Open In Colab\"/></a>"
      ]
    },
    {
      "cell_type": "markdown",
      "source": [
        "# Data Science Tools and Ecosystem"
      ],
      "metadata": {
        "id": "b0TEWyWZ9b13"
      }
    },
    {
      "cell_type": "markdown",
      "source": [
        "In this notebook, Data Science Tools and Ecosystem are summarized.\n"
      ],
      "metadata": {
        "id": "q8iBTDpN9hC1"
      }
    },
    {
      "cell_type": "markdown",
      "source": [
        "**Some of the popular languages that Data Scientists use are:**\n",
        "1. Python\n",
        "2. R\n",
        "3. SQL\n",
        "4. Java\n",
        "5. Julia\n"
      ],
      "metadata": {
        "id": "ZrdGEGbV9hx0"
      }
    },
    {
      "cell_type": "markdown",
      "source": [
        "**Some of the commonly used libraries used by Data Scientists include:**\n",
        "1. Pandas\n",
        "2. NumPy\n",
        "3. Matplotlib\n",
        "4. Scikit-learn\n",
        "5. TensorFlow\n"
      ],
      "metadata": {
        "id": "1rDQ7Sow9qhs"
      }
    },
    {
      "cell_type": "markdown",
      "source": [
        "| Data Science Tools     |\n",
        "|------------------------|\n",
        "| Jupyter Notebook       |\n",
        "| RStudio                |\n",
        "| Apache Zeppelin        |\n"
      ],
      "metadata": {
        "id": "IdMe6oYn9yjM"
      }
    },
    {
      "cell_type": "markdown",
      "source": [
        "### Below are a few examples of evaluating arithmetic expressions in Python.\n"
      ],
      "metadata": {
        "id": "7hbzDn_r9rjk"
      }
    },
    {
      "cell_type": "code",
      "source": [
        "# This is a simple arithmetic expression to multiply then add integers\n",
        "(3*4)+5\n"
      ],
      "metadata": {
        "colab": {
          "base_uri": "https://localhost:8080/"
        },
        "id": "y9Lg3Z2s97H2",
        "outputId": "fe315d4b-83d4-493a-971a-5e9f354a5cb6"
      },
      "execution_count": 2,
      "outputs": [
        {
          "output_type": "execute_result",
          "data": {
            "text/plain": [
              "17"
            ]
          },
          "metadata": {},
          "execution_count": 2
        }
      ]
    },
    {
      "cell_type": "code",
      "source": [
        "# This will convert 200 minutes to hours by dividing by 60\n",
        "200 / 60\n"
      ],
      "metadata": {
        "colab": {
          "base_uri": "https://localhost:8080/"
        },
        "id": "myiu3HOd9-vF",
        "outputId": "bf5b3088-ffcc-4e12-f3ca-45132a46c417"
      },
      "execution_count": 3,
      "outputs": [
        {
          "output_type": "execute_result",
          "data": {
            "text/plain": [
              "3.3333333333333335"
            ]
          },
          "metadata": {},
          "execution_count": 3
        }
      ]
    },
    {
      "cell_type": "markdown",
      "source": [
        "**Objectives:**\n",
        "- List popular languages for Data Science\n",
        "- List commonly used libraries\n",
        "- Create tables using markdown\n",
        "- Perform arithmetic operations in Python\n"
      ],
      "metadata": {
        "id": "O8fkwWQx-EaU"
      }
    },
    {
      "cell_type": "markdown",
      "source": [
        "## Author\n",
        "Jasson Garcia Roa\n",
        "\n",
        "Bogota Colombia\n",
        "\n"
      ],
      "metadata": {
        "id": "oorMErp7-Gw0"
      }
    }
  ]
}